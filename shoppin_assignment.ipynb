{
  "nbformat": 4,
  "nbformat_minor": 0,
  "metadata": {
    "colab": {
      "provenance": []
    },
    "kernelspec": {
      "name": "python3",
      "display_name": "Python 3"
    },
    "language_info": {
      "name": "python"
    }
  },
  "cells": [
    {
      "cell_type": "code",
      "execution_count": 1,
      "metadata": {
        "colab": {
          "base_uri": "https://localhost:8080/"
        },
        "id": "-e9kysQVGqyA",
        "outputId": "3396f139-a00a-4daf-bedd-c65a00874c54"
      },
      "outputs": [
        {
          "output_type": "stream",
          "name": "stdout",
          "text": [
            "Downloading https://www.cs.toronto.edu/~kriz/cifar-10-python.tar.gz to ./data/cifar-10-python.tar.gz\n"
          ]
        },
        {
          "output_type": "stream",
          "name": "stderr",
          "text": [
            "100%|██████████| 170M/170M [00:11<00:00, 14.7MB/s]\n"
          ]
        },
        {
          "output_type": "stream",
          "name": "stdout",
          "text": [
            "Extracting ./data/cifar-10-python.tar.gz to ./data\n",
            "Files already downloaded and verified\n"
          ]
        }
      ],
      "source": [
        "import torch\n",
        "import torch.nn as nn\n",
        "import torch.optim as optim\n",
        "from torchvision import datasets, transforms\n",
        "from sklearn.metrics.pairwise import cosine_similarity\n",
        "import numpy as np\n",
        "import matplotlib.pyplot as plt\n",
        "\n",
        "# 1. Data Preparation\n",
        "# Define a transformation to convert images to tensors and normalize them to [-1, 1]\n",
        "transform = transforms.Compose([\n",
        "    transforms.ToTensor(),\n",
        "    transforms.Normalize((0.5,), (0.5,))  # Normalize with mean=0.5 and std=0.5\n",
        "])\n",
        "\n",
        "# Load CIFAR-10 training and test datasets with the defined transformation\n",
        "train_dataset = datasets.CIFAR10(root='./data', train=True, transform=transform, download=True)\n",
        "test_dataset = datasets.CIFAR10(root='./data', train=False, transform=transform, download=True)\n",
        "\n",
        "# Create data loaders for batching and shuffling\n",
        "train_loader = torch.utils.data.DataLoader(train_dataset, batch_size=64, shuffle=True)\n",
        "test_loader = torch.utils.data.DataLoader(test_dataset, batch_size=64, shuffle=False)\n",
        "\n",
        "\n"
      ]
    },
    {
      "cell_type": "code",
      "source": [
        "# 2. Define the Autoencoder\n",
        "class Autoencoder(nn.Module):\n",
        "    def __init__(self):\n",
        "        super(Autoencoder, self).__init__()\n",
        "        # Encoder: Compress the input image into a latent representation\n",
        "        self.encoder = nn.Sequential(\n",
        "            nn.Conv2d(3, 16, kernel_size=3, stride=2, padding=1),  # Downsample\n",
        "            nn.ReLU(),\n",
        "            nn.Conv2d(16, 32, kernel_size=3, stride=2, padding=1),  # Further downsample\n",
        "            nn.ReLU(),\n",
        "            nn.Flatten(),\n",
        "            nn.Linear(32 * 8 * 8, 128),  # Fully connected layer for latent representation\n",
        "            nn.ReLU()\n",
        "        )\n",
        "        # Decoder: Reconstruct the image from the latent representation\n",
        "        self.decoder = nn.Sequential(\n",
        "            nn.Linear(128, 32 * 8 * 8),\n",
        "            nn.ReLU(),\n",
        "            nn.Unflatten(1, (32, 8, 8)),  # Reshape to match the output of the encoder\n",
        "            nn.ConvTranspose2d(32, 16, kernel_size=3, stride=2, padding=1, output_padding=1),  # Upsample\n",
        "            nn.ReLU(),\n",
        "            nn.ConvTranspose2d(16, 3, kernel_size=3, stride=2, padding=1, output_padding=1),  # Final upsample\n",
        "            nn.Tanh()  # Output values in range [-1, 1]\n",
        "        )\n",
        "\n",
        "\n",
        "    def forward(self, x):\n",
        "        latent = self.encoder(x)  # Encode input to latent representation\n",
        "        reconstruction = self.decoder(latent)  # Decode latent representation to reconstruct input\n",
        "        return latent, reconstruction\n",
        "\n",
        "# 3. Train the Autoencoder\n",
        "# Set device to GPU if available\n",
        "device = torch.device(\"cuda\" if torch.cuda.is_available() else \"cpu\")\n",
        "\n",
        "# Initialize the model, loss function, and optimizer\n",
        "model = Autoencoder().to(device)\n",
        "criterion = nn.MSELoss()  # Mean Squared Error for reconstruction loss\n",
        "optimizer = optim.Adam(model.parameters(), lr=0.001)"
      ],
      "metadata": {
        "id": "BR-gXE5tGz-e"
      },
      "execution_count": 2,
      "outputs": []
    },
    {
      "cell_type": "code",
      "source": [
        "def train_model(model, loader, criterion, optimizer, epochs=20):\n",
        "    model.train()  # Set the model to training mode\n",
        "    for epoch in range(epochs):\n",
        "        total_loss = 0\n",
        "        for images, _ in loader:  # Loop through batches\n",
        "            images = images.to(device)  # Move images to the device\n",
        "\n",
        "            optimizer.zero_grad()  # Clear gradients from the previous step\n",
        "            latent, reconstruction = model(images)  # Forward pass\n",
        "            loss = criterion(reconstruction, images)  # Compute reconstruction loss\n",
        "            loss.backward()  # Backpropagation\n",
        "            optimizer.step()  # Update weights\n",
        "\n",
        "            total_loss += loss.item()\n",
        "\n",
        "        # Print average loss per epoch\n",
        "        print(f\"Epoch [{epoch+1}/{epochs}], Loss: {total_loss / len(loader):.4f}\")\n",
        "\n",
        "# Train the autoencoder\n",
        "train_model(model, train_loader, criterion, optimizer)"
      ],
      "metadata": {
        "colab": {
          "base_uri": "https://localhost:8080/"
        },
        "id": "z8EUrJVuGxpi",
        "outputId": "e5c76408-94d1-406f-dc2b-67a30b9cd61f"
      },
      "execution_count": 3,
      "outputs": [
        {
          "output_type": "stream",
          "name": "stdout",
          "text": [
            "Epoch [1/20], Loss: 0.0698\n",
            "Epoch [2/20], Loss: 0.0371\n",
            "Epoch [3/20], Loss: 0.0335\n",
            "Epoch [4/20], Loss: 0.0318\n",
            "Epoch [5/20], Loss: 0.0309\n",
            "Epoch [6/20], Loss: 0.0306\n",
            "Epoch [7/20], Loss: 0.0303\n",
            "Epoch [8/20], Loss: 0.0301\n",
            "Epoch [9/20], Loss: 0.0300\n",
            "Epoch [10/20], Loss: 0.0298\n",
            "Epoch [11/20], Loss: 0.0297\n",
            "Epoch [12/20], Loss: 0.0296\n",
            "Epoch [13/20], Loss: 0.0296\n",
            "Epoch [14/20], Loss: 0.0295\n",
            "Epoch [15/20], Loss: 0.0294\n",
            "Epoch [16/20], Loss: 0.0294\n",
            "Epoch [17/20], Loss: 0.0293\n",
            "Epoch [18/20], Loss: 0.0293\n",
            "Epoch [19/20], Loss: 0.0292\n",
            "Epoch [20/20], Loss: 0.0292\n"
          ]
        }
      ]
    },
    {
      "cell_type": "code",
      "source": [
        "# 4. Extract Latent Vectors\n",
        "# Function to extract latent vectors and corresponding images from the dataset\n",
        "def extract_latent_vectors(model, loader):\n",
        "    model.eval()  # Set the model to evaluation mode\n",
        "    latent_vectors = []\n",
        "    images_list = []\n",
        "    with torch.no_grad():  # Disable gradient computation\n",
        "        for images, _ in loader:\n",
        "            images = images.to(device)  # Move images to the device\n",
        "            latent, _ = model(images)  # Encode images to latent space\n",
        "            latent_vectors.append(latent.cpu().numpy())  # Collect latent vectors\n",
        "            images_list.append(images.cpu().numpy())  # Collect original images\n",
        "    return np.concatenate(latent_vectors), np.concatenate(images_list)\n",
        "\n",
        "latent_vectors, test_images = extract_latent_vectors(model, test_loader)\n"
      ],
      "metadata": {
        "id": "AW97g1mmGv_M"
      },
      "execution_count": 4,
      "outputs": []
    },
    {
      "cell_type": "code",
      "source": [
        "\n",
        "# 5. Find Similar Images\n",
        "# Function to find the top-k most similar images to a query image\n",
        "def find_similar_images(query_index, latent_vectors, images, top_k=5):\n",
        "    query_vector = latent_vectors[query_index].reshape(1, -1)  # Get the latent vector for the query image\n",
        "    similarities = cosine_similarity(query_vector, latent_vectors)[0]  # Compute cosine similarity\n",
        "    top_indices = similarities.argsort()[-top_k-1:-1][::-1]  # Get indices of top-k most similar images\n",
        "    return top_indices\n",
        "\n",
        "query_idx = 0  # Example query index\n",
        "top_indices = find_similar_images(query_idx, latent_vectors, test_images)\n"
      ],
      "metadata": {
        "id": "5jNyj8kIHOBe"
      },
      "execution_count": 5,
      "outputs": []
    },
    {
      "cell_type": "code",
      "source": [
        "top_indices"
      ],
      "metadata": {
        "colab": {
          "base_uri": "https://localhost:8080/"
        },
        "id": "sQ_H2h-hLlpX",
        "outputId": "84bf7347-92e9-4bf2-9740-2d4d9a0b0449"
      },
      "execution_count": 7,
      "outputs": [
        {
          "output_type": "execute_result",
          "data": {
            "text/plain": [
              "array([9512, 9550, 5906, 6587, 3263])"
            ]
          },
          "metadata": {},
          "execution_count": 7
        }
      ]
    },
    {
      "cell_type": "code",
      "source": [
        "# 6. Display Query and Results\n",
        "# Function to display the query image and top-k similar images\n",
        "def display_query_and_results(query_image, top_indices, test_images, top_k=5):\n",
        "    plt.figure(figsize=(12, 6))\n",
        "    # Display Query Image\n",
        "    plt.subplot(1, top_k + 1, 1)\n",
        "    plt.title(\"Query Image\")\n",
        "    plt.imshow((query_image.transpose(1, 2, 0) + 1) / 2)  # Unnormalize\n",
        "    plt.axis('off')\n",
        "\n",
        "    # Display Similar Images\n",
        "    for i, idx in enumerate(top_indices):\n",
        "        plt.subplot(1, top_k + 1, i + 2)\n",
        "        plt.title(f\"Similar {i+1}\")\n",
        "        plt.imshow((test_images[idx].transpose(1, 2, 0) + 1) / 2)  # Unnormalize\n",
        "        plt.axis('off')\n",
        "    plt.show()"
      ],
      "metadata": {
        "id": "vUy1-SCbLmbD"
      },
      "execution_count": 8,
      "outputs": []
    },
    {
      "cell_type": "code",
      "source": [
        "# Example Usage:\n",
        "def find_similar_from_dataset(query_index, model, latent_vectors, test_images, top_k=5):\n",
        "    model.eval()  # Ensure model is in evaluation mode\n",
        "    query_vector = latent_vectors[query_index].reshape(1, -1)  # Get latent vector for the query image\n",
        "    similarities = cosine_similarity(query_vector, latent_vectors)[0]  # Compute cosine similarity\n",
        "    top_indices = similarities.argsort()[-top_k-1:-1][::-1]  # Exclude the query image itself\n",
        "    return top_indices, test_images[query_index]\n"
      ],
      "metadata": {
        "id": "81H3_geCde4B"
      },
      "execution_count": 10,
      "outputs": []
    },
    {
      "cell_type": "code",
      "source": [
        "query_idx = 5  # Index of the image in the test dataset\n",
        "top_k = 5      # Number of similar images to retrieve\n",
        "top_indices, query_image = find_similar_from_dataset(query_idx, model, latent_vectors, test_images)\n",
        "display_query_and_results(query_image, top_indices, test_images, top_k=top_k)"
      ],
      "metadata": {
        "colab": {
          "base_uri": "https://localhost:8080/",
          "height": 192
        },
        "id": "kjvh3r34Y8ni",
        "outputId": "7f89fa6e-891a-4d61-cb78-8134dabe524a"
      },
      "execution_count": 11,
      "outputs": [
        {
          "output_type": "display_data",
          "data": {
            "text/plain": [
              "<Figure size 1200x600 with 6 Axes>"
            ],
            "image/png": "[encoded data removed]"
          },
          "metadata": {}
        }
      ]
    },
    {
      "cell_type": "code",
      "source": [
        "# 7. Evaluate Similarity Search\n",
        "# Function to evaluate the similarity search performance using Precision, Recall, and Retrieval Accuracy\n",
        "def evaluate_similarity_search(model, latent_vectors, test_loader, top_k=5):\n",
        "    # Extract labels from the dataset\n",
        "    labels = np.array(test_loader.dataset.targets)\n",
        "\n",
        "    precision_scores = []\n",
        "    recall_scores = []\n",
        "    retrieval_accuracies = []\n",
        "\n",
        "    for query_idx in range(len(latent_vectors)):\n",
        "        # Find similar images\n",
        "        query_vector = latent_vectors[query_idx].reshape(1, -1)\n",
        "        similarities = cosine_similarity(query_vector, latent_vectors)[0]\n",
        "        top_indices = similarities.argsort()[-top_k-1:-1][::-1]  # Exclude query itself\n",
        "\n",
        "        # Get the true label for the query\n",
        "        query_label = labels[query_idx]\n",
        "\n",
        "        # Check relevance of retrieved images\n",
        "        retrieved_labels = labels[top_indices]\n",
        "        relevant_count = np.sum(retrieved_labels == query_label)  # Count relevant images in the top-k\n",
        "        total_relevant = np.sum(labels == query_label)  # Total relevant images in the dataset\n",
        "\n",
        "        # Precision@k\n",
        "        precision = relevant_count / top_k\n",
        "        precision_scores.append(precision)\n",
        "\n",
        "        # Recall@k\n",
        "        recall = relevant_count / total_relevant if total_relevant > 0 else 0\n",
        "        recall_scores.append(recall)\n",
        "\n",
        "        # Retrieval Accuracy\n",
        "        retrieval_accuracy = 1 if relevant_count > 0 else 0\n",
        "        retrieval_accuracies.append(retrieval_accuracy)\n",
        "\n",
        "    # Aggregate metrics\n",
        "    avg_precision = np.mean(precision_scores)\n",
        "    avg_recall = np.mean(recall_scores)\n",
        "    avg_accuracy = np.mean(retrieval_accuracies)\n",
        "\n",
        "    print(f\"Precision@{top_k}: {avg_precision:.4f}\")\n",
        "    print(f\"Recall@{top_k}: {avg_recall:.4f}\")\n",
        "    print(f\"Retrieval Accuracy@{top_k}: {avg_accuracy:.4f}\")\n",
        "\n",
        "    return avg_precision, avg_recall, avg_accuracy\n",
        "\n",
        "# Example Usage:\n",
        "evaluate_similarity_search(model, latent_vectors, test_loader, top_k=5)"
      ],
      "metadata": {
        "colab": {
          "base_uri": "https://localhost:8080/"
        },
        "id": "Sr8Lx0WZL86b",
        "outputId": "30a38f74-1d67-4ad9-feab-8d9a823c614f"
      },
      "execution_count": 12,
      "outputs": [
        {
          "output_type": "stream",
          "name": "stdout",
          "text": [
            "Precision@5: 0.2725\n",
            "Recall@5: 0.0014\n",
            "Retrieval Accuracy@5: 0.6641\n"
          ]
        },
        {
          "output_type": "execute_result",
          "data": {
            "text/plain": [
              "(0.27248000000000006, 0.0013624000000000002, 0.6641)"
            ]
          },
          "metadata": {},
          "execution_count": 12
        }
      ]
    },
    {
      "cell_type": "code",
      "source": [],
      "metadata": {
        "id": "z1ObqCnEY7zB"
      },
      "execution_count": null,
      "outputs": []
    },
    {
      "cell_type": "code",
      "source": [],
      "metadata": {
        "id": "FwN--pG_MhiQ"
      },
      "execution_count": null,
      "outputs": []
    }
  ]
}